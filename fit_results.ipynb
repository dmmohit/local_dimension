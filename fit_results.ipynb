{
 "cells": [
  {
   "cell_type": "code",
   "execution_count": null,
   "id": "b5a3fff7",
   "metadata": {},
   "outputs": [],
   "source": [
    "import numpy as np\n",
    "import matplotlib.pyplot as plt\n",
    "from matplotlib import colors\n",
    "import struct"
   ]
  },
  {
   "cell_type": "code",
   "execution_count": null,
   "id": "8395a33b",
   "metadata": {},
   "outputs": [],
   "source": [
    "z = 2.580   # redshift\n",
    "n = 540 # box size in grid units\n",
    "ncentres = 1e5  # total no. of centres sampled\n",
    "gs = 0.5603704  # grid spacing in Mpc units\n",
    "rmin = 9\n",
    "rmax = 27"
   ]
  },
  {
   "cell_type": "code",
   "execution_count": null,
   "id": "5f16d6bb",
   "metadata": {},
   "outputs": [],
   "source": [
    "f = open(f'../fit_results/Nvalues_CO_z2.580_1e5centres_{rmin}-{rmax}.bin', 'rb')\n",
    "struct_format = 'iiifff'\n",
    "size = struct.calcsize(struct_format)\n",
    "\n",
    "# pos = []\n",
    "# A = []\n",
    "D = []\n",
    "# redchisq = []\n",
    "\n",
    "while True:\n",
    "    data = f.read(size)\n",
    "    if not data:\n",
    "        break\n",
    "    vals = struct.unpack(struct_format, data)\n",
    "\n",
    "    if vals[5] <= 1.2:  # upper limit on reduced chi-square\n",
    "        # pos.append(np.array(vals[:3]))\n",
    "        # A.append(vals[3])\n",
    "        D.append(vals[4])\n",
    "        # redchisq.append(vals[5])\n",
    "\n",
    "f.close()\n",
    "\n",
    "# pos = np.array(pos)\n",
    "# A = np.array(A)\n",
    "D = np.array(D)\n",
    "# redchisq = np.array(redchisq)"
   ]
  },
  {
   "cell_type": "code",
   "execution_count": null,
   "id": "10643759",
   "metadata": {},
   "outputs": [],
   "source": [
    "len(D)/ncentres # fraction of centres where D is defined"
   ]
  },
  {
   "cell_type": "code",
   "execution_count": null,
   "id": "29c57ac4",
   "metadata": {},
   "outputs": [],
   "source": [
    "plt.rcParams['figure.figsize'] = (10,8)\n",
    "counts, bins, patches = plt.hist(D,\n",
    "                                #  bins = 11,\n",
    "                                #  bins = np.linspace(0,5,51),\n",
    "                                 bins = np.linspace(0.75,3.25,6),\n",
    "                                 density = True,\n",
    "                                 color = 'black',\n",
    "                                 histtype = 'step',\n",
    "                                 linewidth = 1.5,\n",
    "                                 )\n",
    "\n",
    "title = f'z = {format(round(z,3),\".3f\")}, {format(round(rmin*gs,0),\".0f\")}-{format(round(rmax*gs,0),\".0f\")} Mpc, centres sampled = {int(ncentres)}, D defined on {format(round(100*len(D)/ncentres,1),\".1f\")}% of centres'\n",
    "plt.title(title)\n",
    "plt.xlim(0,5)\n",
    "plt.xlabel(r'local dimension ($D$)', fontsize = 15)\n",
    "plt.ylabel(r'$P(D)$', fontsize = 15)\n",
    "plt.show()"
   ]
  }
 ],
 "metadata": {
  "kernelspec": {
   "display_name": "Python 3 (ipykernel)",
   "language": "python",
   "name": "python3"
  },
  "language_info": {
   "codemirror_mode": {
    "name": "ipython",
    "version": 3
   },
   "file_extension": ".py",
   "mimetype": "text/x-python",
   "name": "python",
   "nbconvert_exporter": "python",
   "pygments_lexer": "ipython3",
   "version": "3.10.12"
  }
 },
 "nbformat": 4,
 "nbformat_minor": 5
}
